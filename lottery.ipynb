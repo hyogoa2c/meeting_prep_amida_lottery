{
 "cells": [
  {
   "cell_type": "code",
   "execution_count": 1,
   "metadata": {},
   "outputs": [],
   "source": [
    "import random\n",
    "import pandas as pd\n",
    "import math"
   ]
  },
  {
   "attachments": {},
   "cell_type": "markdown",
   "metadata": {},
   "source": [
    "# 会議の発表順をきめるくじ引きJupyterNote\n",
    "\n",
    "## 準備する\n",
    "\n",
    "1. 並び替える対象のリストをCSV形式で準備する\n",
    "   - 先頭行は\"id\"としておく。並び替え対象を1行ずつ入力しておく。\n",
    "   - ファイル名は`list_group.csv`として置く（このリポジトリをクローンした場合同名のファイルがあるので、それを編集する）\n",
    "\n",
    "    例:\n",
    "\n",
    "    | id |\n",
    "    | -- |\n",
    "    | Hoge |\n",
    "    | Hage |\n",
    "    | Fuga |\n",
    "\n",
    "2. 各投票者に好きな数字を上げてもらう(メール、Teamsなど)\n",
    "\n",
    "## 実行する\n",
    "\n",
    "1. JupyterNotebookを実行。投票者名と数字を入力し、くじ引き＝シード値を計算する。\n",
    "2. 最後のセルを実行するとくじ引きの結果が表示される。\n"
   ]
  },
  {
   "cell_type": "code",
   "execution_count": 2,
   "metadata": {},
   "outputs": [
    {
     "name": "stdout",
     "output_type": "stream",
     "text": [
      "入力の準備ができました。\n"
     ]
    }
   ],
   "source": [
    "vote_names = list()\n",
    "seed_list = list()\n",
    "print(\"入力の準備ができました。\")"
   ]
  },
  {
   "cell_type": "code",
   "execution_count": null,
   "metadata": {},
   "outputs": [],
   "source": [
    "vote_name = \"\"\n",
    "\n",
    "print(\"入力をしてください.\\n\")\n",
    "\n",
    "while vote_name != \"end\":\n",
    "    vote_name = input(\"投票者の名前は?(終了の場合はendと入力):\")\n",
    "    vote_names.append(vote_name)\n",
    "    seed_input = int(input(\"投票の数字は?(終了の場合は1を入力)\"))\n",
    "    seed_list.append(seed_input)\n",
    "\n",
    "vote_names.pop()\n",
    "seed_list.pop()\n",
    "seed_val = math.prod(seed_list)\n",
    "print(f'投票された方の名前は{vote_names}です。\\n')\n",
    "print(f'投票された数字は{seed_list}です。\\n計算されたシード値は{seed_val}です。')\n",
    "print(\"投票の入力が終了しました。値を追加する場合はこのセルを再度実行してください。\")\n",
    "\n"
   ]
  },
  {
   "cell_type": "code",
   "execution_count": null,
   "metadata": {},
   "outputs": [],
   "source": [
    "random.seed(seed_val)\n",
    "gr_list = pd.read_csv('./list_group.csv')\n",
    "gr_id = list(gr_list.id)\n",
    "order = random.sample(gr_id, len(gr_list))\n",
    "print(pd.DataFrame(order))"
   ]
  }
 ],
 "metadata": {
  "kernelspec": {
   "display_name": "Python 3.10.4 64-bit",
   "language": "python",
   "name": "python3"
  },
  "language_info": {
   "codemirror_mode": {
    "name": "ipython",
    "version": 3
   },
   "file_extension": ".py",
   "mimetype": "text/x-python",
   "name": "python",
   "nbconvert_exporter": "python",
   "pygments_lexer": "ipython3",
   "version": "3.10.4"
  },
  "orig_nbformat": 4,
  "vscode": {
   "interpreter": {
    "hash": "3079be7fbc46bb1071db7bfe4f39eec937c221def4efd848086d2a4418effa7f"
   }
  }
 },
 "nbformat": 4,
 "nbformat_minor": 2
}
